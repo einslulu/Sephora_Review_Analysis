{
 "cells": [
  {
   "cell_type": "markdown",
   "metadata": {},
   "source": [
    "## reference source:\n",
    "\n",
    "- how to get brand list\n",
    "    - cross reference: Sephora data from Kaggle(link: https://www.kaggle.com/raghadalharbi/all-products-available-on-sephora-website)\n",
    "- how to get product list \n",
    "- how to get review list\n",
    "(link: https://github.com/Shirleyiscool/Scraping-Sephora)\n",
    "- link to get proxies (http://www.freeproxylists.net/zh/?c=US&pr=HTTPS&u=80&s=ts)"
   ]
  },
  {
   "cell_type": "markdown",
   "metadata": {},
   "source": [
    "### steps:\n",
    "- get brand list\n",
    "- get product list\n",
    "    - filter only product with review number > 1000\n",
    "- get review data for product with review number >1000\n"
   ]
  },
  {
   "cell_type": "code",
   "execution_count": 115,
   "metadata": {},
   "outputs": [],
   "source": [
    "pd.options.display.max_rows = 999"
   ]
  },
  {
   "cell_type": "markdown",
   "metadata": {},
   "source": [
    "### Step1: get brand list"
   ]
  },
  {
   "cell_type": "code",
   "execution_count": null,
   "metadata": {},
   "outputs": [],
   "source": [
    "# Get Brand List\n",
    "import requests\n",
    "from bs4 import BeautifulSoup\n",
    "\n",
    "# Get Response of \"brandlist\" Website from Sephora\n",
    "band_lst_link = \"https://www.sephora.com/brands-list\"\n",
    "response = requests.get(band_lst_link)\n",
    "\n",
    "# Use BeautifulSoup\n",
    "soup = BeautifulSoup(response.content, 'html.parser')"
   ]
  },
  {
   "cell_type": "markdown",
   "metadata": {},
   "source": [
    "### Step2: get Product list (not full list, maybe dut to proxy issue)"
   ]
  },
  {
   "cell_type": "code",
   "execution_count": null,
   "metadata": {},
   "outputs": [],
   "source": [
    "# Scraping brand links and save them into a list\n",
    "brand_link_lst = []\n",
    "main_box = soup.find_all(attrs={\"data-comp\": \"BrandsList StyledComponent BaseComponent \"})[0]\n",
    "for brand in main_box.find_all('li'):\n",
    "    brand_link_lst.append(\"https://www.sephora.com\" +\n",
    "                          brand.a.attrs['href']+\"/all?pageSize=300\")\n",
    "\n",
    "# Write brand links into a file:\n",
    "with open('data/brand_link.txt', 'w') as f:\n",
    "    for item in brand_link_lst:\n",
    "        f.write(f\"{item}\\n\")\n",
    "\n",
    "# Indicate scraping completion\n",
    "print(f'Got All Brand Links! There are {len(brand_link_lst)} brands in total.')"
   ]
  },
  {
   "cell_type": "code",
   "execution_count": null,
   "metadata": {},
   "outputs": [],
   "source": [
    "import requests\n",
    "from bs4 import BeautifulSoup\n",
    "import pandas as pd\n",
    "\n",
    "\n",
    "def scape_product(link, proxy=None):\n",
    "    \"\"\"\n",
    "    A function to scape all the product links from a given brand link.\n",
    "    \"\"\"\n",
    "    try:\n",
    "        response = requests.get(link, proxies={\n",
    "                                \"http\": proxy, \"https\": proxy}, timeout=15)\n",
    "    except:\n",
    "        print(f'\\r Unsuccessfully get data for {link.split(\"/\")[4]}', end=\"\")\n",
    "        return None\n",
    "    html = response.text\n",
    "    soup = BeautifulSoup(html, 'html.parser')\n",
    "    product_link_lst = []\n",
    "    try:\n",
    "        product_box = soup.find_all(attrs={\"data-comp\": \"ProductGrid \"})[0]\n",
    "    # There might be no products for that brand\n",
    "    except IndexError:\n",
    "        return []\n",
    "    for product in product_box.find_all('a',\n",
    "                                        attrs={\"data-comp\": \"ProductItem \"}):\n",
    "        # use function split to remove text like \"grid p12345\"\n",
    "        product_link_lst.append(\n",
    "            \"https://www.sephora.com\" + product.attrs['href'].split()[0])\n",
    "    return product_link_lst\n",
    "\n",
    "\n",
    "# Read brand links file\n",
    "product_link_dic = {'brand': [], 'product_links': []}\n",
    "num_lines = sum(1 for line in open(\"data/brand_link.txt\", \"r\"))\n",
    "\n",
    "# Scape all the product links from all the brands links.\n",
    "# This will take some time!\n",
    "ct = 1\n",
    "\n",
    "# Get proxies from http://www.freeproxylists.net/zh/?c=US&pr=HTTPS&u=80&s=ts\n",
    "px = ['143.198.222.22:8080', '143.198.206.183:8080', '157.230.208.88:8080']\n",
    "px_idx = 0\n",
    "\n",
    "for brand_link in open(\"data/brand_link.txt\", \"r\"):\n",
    "    brand_name = brand_link.split('/')[4]\n",
    "    product_link_list = scape_product(brand_link[:-1], proxy=px[px_idx])\n",
    "\n",
    "    # If one proxy does not work, use another\n",
    "    while product_link_list is None:\n",
    "        px_idx += 1\n",
    "        if px_idx == 3:\n",
    "            px_idx = 0\n",
    "        product_link_list = scape_product(brand_link[:-1], proxy=px[px_idx])\n",
    "\n",
    "    print(f'\\r === {ct} / {num_lines} ===  {brand_name} === {px[px_idx]}',\n",
    "          end=\"\")\n",
    "    product_link_dic['brand'] += [brand_name] * len(product_link_list)\n",
    "    product_link_dic['product_links'] += product_link_list\n",
    "    ct += 1\n",
    "\n",
    "# Write the result into csv file\n",
    "product_link_df = pd.DataFrame(product_link_dic)\n",
    "product_link_df.to_csv('data/product_links.csv', index=False)\n",
    "\n",
    "# Indicate scraping completion\n",
    "print(f'Got All product Links! There are {len(product_link_df)} products in '\n",
    "      f'total.')"
   ]
  },
  {
   "cell_type": "code",
   "execution_count": null,
   "metadata": {},
   "outputs": [],
   "source": [
    "import re\n",
    "\n",
    "import pandas as pd\n",
    "import requests\n",
    "from bs4 import BeautifulSoup"
   ]
  },
  {
   "cell_type": "code",
   "execution_count": null,
   "metadata": {},
   "outputs": [],
   "source": [
    "def get_data(product_link, px_list=None):\n",
    "    \"\"\"Get product information\"\"\"\n",
    "    data_dic = {'pd_id': [], 'size_and_item': [], 'category': [],\n",
    "                'price': [], 'love_count': [], 'reviews_count': []}\n",
    "    px_idx = 0\n",
    "    proxy = None if px_list is None else px_list[px_idx]\n",
    "\n",
    "    while True:\n",
    "        try:\n",
    "            response = requests.get(product_link, proxies={\n",
    "                \"http\": proxy, \"https\": proxy}, timeout=15)\n",
    "        except:\n",
    "            if px_idx == len(px_list) - 1:\n",
    "                px_idx = 0\n",
    "            else:\n",
    "                px_idx += 1\n",
    "            proxy = px_list[px_idx]\n",
    "            continue\n",
    "\n",
    "        html = response.text\n",
    "        soup = BeautifulSoup(html, 'html.parser')\n",
    "        data_dic['pd_id'] = re.findall(R'P[0-9]{3,6}', product_link)[0]\n",
    "\n",
    "        # Get Category\n",
    "        try:\n",
    "            cat_box = soup.find_all(attrs={'data-comp': 'ProductBreadCrumbs BreadCrumbs '})[0]\n",
    "            cat_list = [cat.string for cat in cat_box.find_all('a')]\n",
    "            category = ', '.join(cat_list)\n",
    "        except:\n",
    "            category = None\n",
    "\n",
    "\n",
    "        category\n",
    "\n",
    "        # Size and Content\n",
    "        try:\n",
    "            size_and_item = soup.find(\n",
    "                attrs={\"data-at\": \"sku_size_label\"}).get_text()\n",
    "        except:\n",
    "            size_and_item = None\n",
    "\n",
    "        size_and_item\n",
    "\n",
    "        # Get Price\n",
    "        try:\n",
    "            price = soup.find_all(attrs={'data-comp': 'Price '})[\n",
    "                0].get_text()\n",
    "        except:\n",
    "            price = None\n",
    "\n",
    "        price\n",
    "\n",
    "\n",
    "        # Get love counts\n",
    "        try:\n",
    "            love_count = soup.find('span', attrs={\n",
    "                \"class\": \"css-jk94q9\"}).get_text()\n",
    "        except:\n",
    "            love_count = None\n",
    "\n",
    "        love_count\n",
    "\n",
    "\n",
    "        # review nums\n",
    "        try:\n",
    "        #     link_json = soup.find(attrs={\"id\": \"linkJSON\"})\n",
    "        #     json_str = str(link_json)\n",
    "        #     reviews = re.findall(R'\\\"reviews\\\":(.*?)\\,', json_str)\n",
    "            reviews = soup.find('span', attrs = {\n",
    "        #         'class':\"css-nv7myq eanm77i0\",\n",
    "#                 'class': \"css-1vj6vps eanm77i0\"\n",
    "        #         'data-comp' : 'StyledComponent BaseComponent ',\n",
    "        #         'id': 'ratings-reviews-container'\n",
    "                'data-at': 'number_of_reviews'\n",
    "            }).get_text()\n",
    "            reviews_count = reviews\n",
    "        except:\n",
    "            reviews_count = None\n",
    "\n",
    "\n",
    "        data_dic['category'] = category\n",
    "        data_dic['size_and_item'] = size_and_item\n",
    "        data_dic['love_count'] = love_count\n",
    "        data_dic['reviews_count'] = reviews_count\n",
    "        data_dic['price'] = price\n",
    "        break\n",
    "    return data_dic\n",
    "\n",
    "\n",
    "px_list_ = [\n",
    "#     '167.99.218.191:8080',\n",
    "#           '144.217.254.175:3128', \n",
    "    '165.225.77.47:9443',\n",
    "          '54.37.137.211:3128', '165.22.91.197:8080',\n",
    "          '165.225.77.47:8800', '165.225.77.47:9400',\n",
    "          '165.225.77.47:80', '165.225.77.47:443',\n",
    "    '143.198.222.22:8080', '143.198.206.183:8080', '157.230.208.88:8080',\n",
    "            ]\n",
    "\n",
    "pd_links_df = pd.read_csv('data/product_links.csv')\n",
    "product_links = pd_links_df['product_links']\n",
    "\n",
    "result = []\n",
    "for i, link in enumerate(product_links[:]):\n",
    "    result.append(get_data(link, px_list_))\n",
    "    pd_df = pd.DataFrame(result)\n",
    "    pd_df.to_csv('data/pd_info.csv', index=False)\n",
    "    print(f'{i + 1:04d} / {len(product_links)} || {link}')"
   ]
  },
  {
   "cell_type": "markdown",
   "metadata": {},
   "source": [
    "# Step3: Get Reviews"
   ]
  },
  {
   "cell_type": "code",
   "execution_count": 1,
   "metadata": {},
   "outputs": [],
   "source": [
    "import re\n",
    "import time\n",
    "\n",
    "import pandas as pd\n",
    "import requests\n",
    "import json\n"
   ]
  },
  {
   "cell_type": "code",
   "execution_count": 2,
   "metadata": {},
   "outputs": [],
   "source": [
    "# Load product link data frame\n",
    "pd_links_df = pd.read_parquet('./data/sephora_historical_data_april_2020.parquet')\n",
    "#pd.read_csv('data/product_links.csv')"
   ]
  },
  {
   "cell_type": "code",
   "execution_count": 3,
   "metadata": {},
   "outputs": [],
   "source": [
    "pd_links_df['product_links'] = pd_links_df['URL']"
   ]
  },
  {
   "cell_type": "code",
   "execution_count": 36,
   "metadata": {},
   "outputs": [],
   "source": [
    "# remove ones already done\n",
    "with open(\"data/scraper_result.json\", \"r\") as file:\n",
    "    result = json.load(file)"
   ]
  },
  {
   "cell_type": "code",
   "execution_count": 37,
   "metadata": {},
   "outputs": [],
   "source": [
    "pids = list(result)"
   ]
  },
  {
   "cell_type": "code",
   "execution_count": 69,
   "metadata": {},
   "outputs": [],
   "source": [
    "pids_cleaned = [i for i in list(result) if result[i]!=[None, None]]"
   ]
  },
  {
   "cell_type": "code",
   "execution_count": 70,
   "metadata": {},
   "outputs": [
    {
     "data": {
      "text/plain": [
       "1"
      ]
     },
     "execution_count": 70,
     "metadata": {},
     "output_type": "execute_result"
    }
   ],
   "source": [
    "len(pids_cleaned)"
   ]
  },
  {
   "cell_type": "code",
   "execution_count": 38,
   "metadata": {},
   "outputs": [],
   "source": [
    "# pids"
   ]
  },
  {
   "cell_type": "code",
   "execution_count": 39,
   "metadata": {},
   "outputs": [],
   "source": [
    "pd_links_df['key'] = pd_links_df['URL'].str.findall('P[0-9]{4,7}').apply(lambda x: x[0])"
   ]
  },
  {
   "cell_type": "code",
   "execution_count": 40,
   "metadata": {},
   "outputs": [
    {
     "data": {
      "text/plain": [
       "(9168, 23)"
      ]
     },
     "execution_count": 40,
     "metadata": {},
     "output_type": "execute_result"
    }
   ],
   "source": [
    "pd_links_df.shape"
   ]
  },
  {
   "cell_type": "code",
   "execution_count": 41,
   "metadata": {},
   "outputs": [],
   "source": [
    "pd_links_df = pd_links_df[~pd_links_df['key'].isin(pids)].copy()"
   ]
  },
  {
   "cell_type": "code",
   "execution_count": 4,
   "metadata": {},
   "outputs": [
    {
     "data": {
      "text/plain": [
       "(9168, 22)"
      ]
     },
     "execution_count": 4,
     "metadata": {},
     "output_type": "execute_result"
    }
   ],
   "source": [
    "pd_links_df.shape"
   ]
  },
  {
   "cell_type": "code",
   "execution_count": null,
   "metadata": {},
   "outputs": [],
   "source": [
    "# Add a column of product id\n",
    "pd_links_df['pd_id'] = [re.findall('P[0-9]{4,7}', link)[0] for link\n",
    "                        in pd_links_df['product_links']]\n",
    "\n",
    "\n",
    "def scrape_reviews(p_id, proxy=None):\n",
    "    url = 'https://api.bazaarvoice.com/data/reviews.json'\n",
    "    params = {\n",
    "        'Filter': f'ProductId:{p_id}',\n",
    "        'Sort': 'SubmissionTime:desc',\n",
    "        'Limit': 100,\n",
    "        'Offset': 0,\n",
    "        'Include': 'Products,Comments',\n",
    "        'Stats': 'Reviews',\n",
    "        'passkey': 'caQ0pQXZTqFVYA1yYnnJ9emgUiW59DXA85Kxry8Ma02HE',\n",
    "        'apiversion': 5.4,\n",
    "        'Locale': 'en_US',\n",
    "    }\n",
    "\n",
    "    \n",
    "    reviews = []\n",
    "    loop = 0\n",
    "\n",
    "    while True:\n",
    "        params['Offset'] = len(reviews)\n",
    "\n",
    "        # Make the same request that Javascript makes\n",
    "        try:\n",
    "            r = requests.get(url, params=params, proxies={\n",
    "                \"http\": proxy, \"https\": proxy}, timeout=15)\n",
    "        except:\n",
    "            print(f'{proxy} Cannot connect!')\n",
    "            return None, None\n",
    "        if loop == 0:\n",
    "            try:\n",
    "                product = r.json()['Includes']['Products']\n",
    "            except KeyError:\n",
    "                product = []\n",
    "\n",
    "        # break if we have an error or have all the reviews\n",
    "        if (r.status_code != 200) or (\n",
    "                len(reviews) >= r.json()['TotalResults']):\n",
    "            break\n",
    "\n",
    "        # add the list of results to current results\n",
    "        reviews.extend(r.json()['Results'])\n",
    "\n",
    "        # Give a pause, so we don't get blocked\n",
    "        time.sleep(0.2)\n",
    "        loop += 1\n",
    "\n",
    "    # Show how many reviews we scraped\n",
    "    print(f'{p_id}: {len(reviews)} reviews')\n",
    "    time.sleep(0.5)\n",
    "    return product, reviews\n",
    "\n",
    "\n",
    "# Scrape Product and Review Data\n",
    "# result already imported from file\n",
    "# result = {}\n",
    "\n",
    "proxies = [ \n",
    "          '165.225.77.47:8800', '165.225.77.47:9400',\n",
    "          '165.225.77.47:80', '165.225.77.47:443',\n",
    "'167.99.218.191:8080','144.217.254.175:3128', \n",
    "           '165.225.77.47:9443','54.37.137.211:3128','165.22.91.197:8080',]\n",
    "px_id = 0\n",
    "loop = 0\n",
    "\n",
    "for pid in pd_links_df['pd_id']:\n",
    "    loop_ = loop % 1000\n",
    "    if (loop_ < 900) and (loop_ >= 150):\n",
    "        product, reviews = None, None\n",
    "        while True:\n",
    "            if px_id == len(proxies):\n",
    "                px_id = 0\n",
    "\n",
    "            product_data, reviews_data = scrape_reviews(pid,\n",
    "                                                        proxy=proxies[px_id])\n",
    "            if product_data is not None:\n",
    "                break\n",
    "            px_id += 1\n",
    "\n",
    "    # Use my own server to connect\n",
    "    else:\n",
    "        product_data, reviews_data = scrape_reviews(pid)\n",
    "    loop += 1\n",
    "\n",
    "    print(f'{proxies[px_id]} || {loop:04d}/{len(pd_links_df)}')\n",
    "    result[pid] = [product_data, reviews_data]\n",
    "\n",
    "json_result = json.dumps(result)\n",
    "f = open(\"data/scraper_result.json\", \"w\")\n",
    "f.write(json_result)\n",
    "f.close()"
   ]
  },
  {
   "cell_type": "code",
   "execution_count": 7,
   "metadata": {},
   "outputs": [],
   "source": [
    "json_result = json.dumps(result)\n",
    "f = open(\"data/scraper_result.json\", \"w\")\n",
    "f.write(json_result)\n",
    "f.close()"
   ]
  },
  {
   "cell_type": "code",
   "execution_count": 9,
   "metadata": {},
   "outputs": [
    {
     "data": {
      "text/plain": [
       "272"
      ]
     },
     "execution_count": 9,
     "metadata": {},
     "output_type": "execute_result"
    }
   ],
   "source": [
    "len(result)"
   ]
  },
  {
   "cell_type": "code",
   "execution_count": 110,
   "metadata": {},
   "outputs": [],
   "source": [
    "# result['P393151']"
   ]
  },
  {
   "cell_type": "code",
   "execution_count": 111,
   "metadata": {},
   "outputs": [],
   "source": [
    "# Json format\n",
    "# {'PID': [ {'PID' :'product_dict'}, 'review_dict']}"
   ]
  },
  {
   "cell_type": "code",
   "execution_count": 89,
   "metadata": {},
   "outputs": [
    {
     "name": "stdout",
     "output_type": "stream",
     "text": [
      "P450814 [[], []]\n",
      "P454768\n",
      "P457815\n",
      "P454769\n",
      "P429259\n",
      "P456165\n",
      "P378121\n",
      "P426155\n"
     ]
    }
   ],
   "source": [
    "product_lst = []\n",
    "reviews_lst = []\n",
    "for name, value in result.items():\n",
    "    if value == [[],[]]:\n",
    "        pass\n",
    "        print(name, value)\n",
    "    else:\n",
    "        reviews_lst.extend(value[1])\n",
    "        try:\n",
    "            product_lst.append(value[0][name])\n",
    "        except:\n",
    "            print(name)"
   ]
  },
  {
   "cell_type": "code",
   "execution_count": 13,
   "metadata": {},
   "outputs": [],
   "source": [
    "df_review = pd.DataFrame(reviews_lst)"
   ]
  },
  {
   "cell_type": "code",
   "execution_count": 17,
   "metadata": {},
   "outputs": [],
   "source": [
    "context = pd.json_normalize(df_review['ContextDataValues'])"
   ]
  },
  {
   "cell_type": "code",
   "execution_count": 20,
   "metadata": {},
   "outputs": [
    {
     "data": {
      "text/plain": [
       "(38569, 48)"
      ]
     },
     "execution_count": 20,
     "metadata": {},
     "output_type": "execute_result"
    }
   ],
   "source": [
    "context.shape"
   ]
  },
  {
   "cell_type": "code",
   "execution_count": 15,
   "metadata": {},
   "outputs": [
    {
     "data": {
      "text/plain": [
       "Index(['UserNickname', 'Rating', 'ReviewText', 'ContextDataValues',\n",
       "       'ProductId', 'UserEmailAddress', 'Videos', 'CommentIds', 'Photos',\n",
       "       'TotalNegativeFeedbackCount', 'RatingRange', 'CampaignId',\n",
       "       'UserLocation', 'SecondaryRatingsOrder', 'TotalCommentCount',\n",
       "       'ContextDataValuesOrder', 'ClientResponses', 'TagDimensionsOrder',\n",
       "       'TotalPositiveFeedbackCount', 'IsRatingsOnly', 'LastModificationTime',\n",
       "       'Pros', 'ProductRecommendationIds', 'BadgesOrder', 'AuthorId',\n",
       "       'Helpfulness', 'SubmissionTime', 'AdditionalFields', 'Title',\n",
       "       'AdditionalFieldsOrder', 'TotalFeedbackCount', 'ModerationStatus',\n",
       "       'IsFeatured', 'Cons', 'TagDimensions', 'SecondaryRatings', 'Badges',\n",
       "       'SubmissionId', 'IsSyndicated', 'IsRecommended', 'LastModeratedTime',\n",
       "       'Id', 'ContentLocale'],\n",
       "      dtype='object')"
      ]
     },
     "execution_count": 15,
     "metadata": {},
     "output_type": "execute_result"
    }
   ],
   "source": [
    "df_review.columns"
   ]
  },
  {
   "cell_type": "code",
   "execution_count": 112,
   "metadata": {},
   "outputs": [],
   "source": [
    "df_review_final = pd.concat([df_review, context], axis = 1)"
   ]
  },
  {
   "cell_type": "code",
   "execution_count": 113,
   "metadata": {},
   "outputs": [
    {
     "data": {
      "text/plain": [
       "(38569, 91)"
      ]
     },
     "execution_count": 113,
     "metadata": {},
     "output_type": "execute_result"
    }
   ],
   "source": [
    "df_review_final.shape"
   ]
  },
  {
   "cell_type": "code",
   "execution_count": 117,
   "metadata": {},
   "outputs": [
    {
     "data": {
      "text/html": [
       "<div>\n",
       "<style scoped>\n",
       "    .dataframe tbody tr th:only-of-type {\n",
       "        vertical-align: middle;\n",
       "    }\n",
       "\n",
       "    .dataframe tbody tr th {\n",
       "        vertical-align: top;\n",
       "    }\n",
       "\n",
       "    .dataframe thead th {\n",
       "        text-align: right;\n",
       "    }\n",
       "</style>\n",
       "<table border=\"1\" class=\"dataframe\">\n",
       "  <thead>\n",
       "    <tr style=\"text-align: right;\">\n",
       "      <th></th>\n",
       "      <th>UserNickname</th>\n",
       "      <th>Rating</th>\n",
       "      <th>ReviewText</th>\n",
       "      <th>ContextDataValues</th>\n",
       "      <th>ProductId</th>\n",
       "      <th>UserEmailAddress</th>\n",
       "      <th>Videos</th>\n",
       "      <th>CommentIds</th>\n",
       "      <th>Photos</th>\n",
       "      <th>TotalNegativeFeedbackCount</th>\n",
       "      <th>...</th>\n",
       "      <th>age.ValueLabel</th>\n",
       "      <th>age.DimensionLabel</th>\n",
       "      <th>beautyInsider.Value</th>\n",
       "      <th>beautyInsider.Id</th>\n",
       "      <th>beautyInsider.ValueLabel</th>\n",
       "      <th>beautyInsider.DimensionLabel</th>\n",
       "      <th>hairCondition.Value</th>\n",
       "      <th>hairCondition.Id</th>\n",
       "      <th>hairCondition.ValueLabel</th>\n",
       "      <th>hairCondition.DimensionLabel</th>\n",
       "    </tr>\n",
       "  </thead>\n",
       "  <tbody>\n",
       "    <tr>\n",
       "      <th>0</th>\n",
       "      <td>Aquamarinade</td>\n",
       "      <td>2</td>\n",
       "      <td>I bought this because I already love Arancia d...</td>\n",
       "      <td>{'skinType': {'Value': 'combination', 'Id': 's...</td>\n",
       "      <td>P443401</td>\n",
       "      <td>None</td>\n",
       "      <td>[]</td>\n",
       "      <td>[]</td>\n",
       "      <td>[]</td>\n",
       "      <td>0</td>\n",
       "      <td>...</td>\n",
       "      <td>NaN</td>\n",
       "      <td>NaN</td>\n",
       "      <td>NaN</td>\n",
       "      <td>NaN</td>\n",
       "      <td>NaN</td>\n",
       "      <td>NaN</td>\n",
       "      <td>NaN</td>\n",
       "      <td>NaN</td>\n",
       "      <td>NaN</td>\n",
       "      <td>NaN</td>\n",
       "    </tr>\n",
       "    <tr>\n",
       "      <th>1</th>\n",
       "      <td>adele2090</td>\n",
       "      <td>1</td>\n",
       "      <td>Why is this 82$ when the value is lower? That ...</td>\n",
       "      <td>{'skinType': {'Value': 'combination', 'Id': 's...</td>\n",
       "      <td>P443401</td>\n",
       "      <td>None</td>\n",
       "      <td>[]</td>\n",
       "      <td>[]</td>\n",
       "      <td>[]</td>\n",
       "      <td>1</td>\n",
       "      <td>...</td>\n",
       "      <td>NaN</td>\n",
       "      <td>NaN</td>\n",
       "      <td>NaN</td>\n",
       "      <td>NaN</td>\n",
       "      <td>NaN</td>\n",
       "      <td>NaN</td>\n",
       "      <td>NaN</td>\n",
       "      <td>NaN</td>\n",
       "      <td>NaN</td>\n",
       "      <td>NaN</td>\n",
       "    </tr>\n",
       "    <tr>\n",
       "      <th>2</th>\n",
       "      <td>SMDSoCal</td>\n",
       "      <td>4</td>\n",
       "      <td>I had a few of these as samples and really lik...</td>\n",
       "      <td>{'skinType': {'Value': 'combination', 'Id': 's...</td>\n",
       "      <td>P443401</td>\n",
       "      <td>None</td>\n",
       "      <td>[]</td>\n",
       "      <td>[]</td>\n",
       "      <td>[]</td>\n",
       "      <td>0</td>\n",
       "      <td>...</td>\n",
       "      <td>NaN</td>\n",
       "      <td>NaN</td>\n",
       "      <td>NaN</td>\n",
       "      <td>NaN</td>\n",
       "      <td>NaN</td>\n",
       "      <td>NaN</td>\n",
       "      <td>NaN</td>\n",
       "      <td>NaN</td>\n",
       "      <td>NaN</td>\n",
       "      <td>NaN</td>\n",
       "    </tr>\n",
       "    <tr>\n",
       "      <th>3</th>\n",
       "      <td>EastcoastAmy</td>\n",
       "      <td>3</td>\n",
       "      <td>Fell in love with Acqua Di Parma during a stay...</td>\n",
       "      <td>{'skinType': {'Value': 'combination', 'Id': 's...</td>\n",
       "      <td>P443401</td>\n",
       "      <td>None</td>\n",
       "      <td>[]</td>\n",
       "      <td>[]</td>\n",
       "      <td>[]</td>\n",
       "      <td>2</td>\n",
       "      <td>...</td>\n",
       "      <td>NaN</td>\n",
       "      <td>NaN</td>\n",
       "      <td>NaN</td>\n",
       "      <td>NaN</td>\n",
       "      <td>NaN</td>\n",
       "      <td>NaN</td>\n",
       "      <td>NaN</td>\n",
       "      <td>NaN</td>\n",
       "      <td>NaN</td>\n",
       "      <td>NaN</td>\n",
       "    </tr>\n",
       "    <tr>\n",
       "      <th>4</th>\n",
       "      <td>karenleeza</td>\n",
       "      <td>5</td>\n",
       "      <td>I've had this set for a year now and I constan...</td>\n",
       "      <td>{'hairConcerns': {'Value': 'Hold', 'Id': 'hair...</td>\n",
       "      <td>P443401</td>\n",
       "      <td>None</td>\n",
       "      <td>[]</td>\n",
       "      <td>[]</td>\n",
       "      <td>[]</td>\n",
       "      <td>4</td>\n",
       "      <td>...</td>\n",
       "      <td>NaN</td>\n",
       "      <td>NaN</td>\n",
       "      <td>NaN</td>\n",
       "      <td>NaN</td>\n",
       "      <td>NaN</td>\n",
       "      <td>NaN</td>\n",
       "      <td>NaN</td>\n",
       "      <td>NaN</td>\n",
       "      <td>NaN</td>\n",
       "      <td>NaN</td>\n",
       "    </tr>\n",
       "  </tbody>\n",
       "</table>\n",
       "<p>5 rows × 91 columns</p>\n",
       "</div>"
      ],
      "text/plain": [
       "   UserNickname  Rating                                         ReviewText  \\\n",
       "0  Aquamarinade       2  I bought this because I already love Arancia d...   \n",
       "1     adele2090       1  Why is this 82$ when the value is lower? That ...   \n",
       "2      SMDSoCal       4  I had a few of these as samples and really lik...   \n",
       "3  EastcoastAmy       3  Fell in love with Acqua Di Parma during a stay...   \n",
       "4    karenleeza       5  I've had this set for a year now and I constan...   \n",
       "\n",
       "                                   ContextDataValues ProductId  \\\n",
       "0  {'skinType': {'Value': 'combination', 'Id': 's...   P443401   \n",
       "1  {'skinType': {'Value': 'combination', 'Id': 's...   P443401   \n",
       "2  {'skinType': {'Value': 'combination', 'Id': 's...   P443401   \n",
       "3  {'skinType': {'Value': 'combination', 'Id': 's...   P443401   \n",
       "4  {'hairConcerns': {'Value': 'Hold', 'Id': 'hair...   P443401   \n",
       "\n",
       "  UserEmailAddress Videos CommentIds Photos  TotalNegativeFeedbackCount  ...  \\\n",
       "0             None     []         []     []                           0  ...   \n",
       "1             None     []         []     []                           1  ...   \n",
       "2             None     []         []     []                           0  ...   \n",
       "3             None     []         []     []                           2  ...   \n",
       "4             None     []         []     []                           4  ...   \n",
       "\n",
       "   age.ValueLabel age.DimensionLabel beautyInsider.Value beautyInsider.Id  \\\n",
       "0             NaN                NaN                 NaN              NaN   \n",
       "1             NaN                NaN                 NaN              NaN   \n",
       "2             NaN                NaN                 NaN              NaN   \n",
       "3             NaN                NaN                 NaN              NaN   \n",
       "4             NaN                NaN                 NaN              NaN   \n",
       "\n",
       "   beautyInsider.ValueLabel beautyInsider.DimensionLabel hairCondition.Value  \\\n",
       "0                       NaN                          NaN                 NaN   \n",
       "1                       NaN                          NaN                 NaN   \n",
       "2                       NaN                          NaN                 NaN   \n",
       "3                       NaN                          NaN                 NaN   \n",
       "4                       NaN                          NaN                 NaN   \n",
       "\n",
       "  hairCondition.Id  hairCondition.ValueLabel  hairCondition.DimensionLabel  \n",
       "0              NaN                       NaN                           NaN  \n",
       "1              NaN                       NaN                           NaN  \n",
       "2              NaN                       NaN                           NaN  \n",
       "3              NaN                       NaN                           NaN  \n",
       "4              NaN                       NaN                           NaN  \n",
       "\n",
       "[5 rows x 91 columns]"
      ]
     },
     "execution_count": 117,
     "metadata": {},
     "output_type": "execute_result"
    }
   ],
   "source": [
    "df_review_final.head()"
   ]
  },
  {
   "cell_type": "code",
   "execution_count": 120,
   "metadata": {},
   "outputs": [],
   "source": [
    "df_review_final.to_csv('./data/review_sample.csv', sep = '\\t')"
   ]
  },
  {
   "cell_type": "code",
   "execution_count": 92,
   "metadata": {},
   "outputs": [
    {
     "data": {
      "text/plain": [
       "264"
      ]
     },
     "execution_count": 92,
     "metadata": {},
     "output_type": "execute_result"
    }
   ],
   "source": [
    "len(product_lst)"
   ]
  },
  {
   "cell_type": "code",
   "execution_count": 93,
   "metadata": {},
   "outputs": [],
   "source": [
    "df_product = pd.DataFrame(product_lst)"
   ]
  },
  {
   "cell_type": "code",
   "execution_count": 99,
   "metadata": {},
   "outputs": [],
   "source": [
    "df_product['key'] = df_product['FamilyIds'].apply(lambda x: x[0])"
   ]
  },
  {
   "cell_type": "code",
   "execution_count": 121,
   "metadata": {},
   "outputs": [
    {
     "data": {
      "text/html": [
       "<div>\n",
       "<style scoped>\n",
       "    .dataframe tbody tr th:only-of-type {\n",
       "        vertical-align: middle;\n",
       "    }\n",
       "\n",
       "    .dataframe tbody tr th {\n",
       "        vertical-align: top;\n",
       "    }\n",
       "\n",
       "    .dataframe thead th {\n",
       "        text-align: right;\n",
       "    }\n",
       "</style>\n",
       "<table border=\"1\" class=\"dataframe\">\n",
       "  <thead>\n",
       "    <tr style=\"text-align: right;\">\n",
       "      <th></th>\n",
       "      <th>CategoryId</th>\n",
       "      <th>EANs</th>\n",
       "      <th>Description</th>\n",
       "      <th>ModelNumbers</th>\n",
       "      <th>Attributes</th>\n",
       "      <th>ImageUrl</th>\n",
       "      <th>BrandExternalId</th>\n",
       "      <th>UPCs</th>\n",
       "      <th>ReviewStatistics</th>\n",
       "      <th>Name</th>\n",
       "      <th>...</th>\n",
       "      <th>QuestionIds</th>\n",
       "      <th>FamilyIds</th>\n",
       "      <th>ReviewIds</th>\n",
       "      <th>ProductPageUrl</th>\n",
       "      <th>ISBNs</th>\n",
       "      <th>Id</th>\n",
       "      <th>AttributesOrder</th>\n",
       "      <th>ManufacturerPartNumbers</th>\n",
       "      <th>StoryIds</th>\n",
       "      <th>key</th>\n",
       "    </tr>\n",
       "  </thead>\n",
       "  <tbody>\n",
       "    <tr>\n",
       "      <th>0</th>\n",
       "      <td>cat1910032</td>\n",
       "      <td>[8028713571589]</td>\n",
       "      <td>This enchanting set comes in a specially handc...</td>\n",
       "      <td>[]</td>\n",
       "      <td>{'BV_FE_EXPAND': {'Values': [{'Locale': None, ...</td>\n",
       "      <td>https://www.sephora.com/productimages/sku/s221...</td>\n",
       "      <td>5847</td>\n",
       "      <td>[]</td>\n",
       "      <td>{'FeaturedReviewCount': 0, 'RecommendedCount':...</td>\n",
       "      <td>Blu Mediterraneo Mini Eau de Toilette Set</td>\n",
       "      <td>...</td>\n",
       "      <td>[]</td>\n",
       "      <td>[P443401]</td>\n",
       "      <td>[]</td>\n",
       "      <td>https://www.sephora.com/product/blu-mediterran...</td>\n",
       "      <td>[]</td>\n",
       "      <td>P443401</td>\n",
       "      <td>[BV_FE_EXPAND, BV_FE_FAMILY]</td>\n",
       "      <td>[]</td>\n",
       "      <td>[]</td>\n",
       "      <td>P443401</td>\n",
       "    </tr>\n",
       "    <tr>\n",
       "      <th>1</th>\n",
       "      <td>cat60150</td>\n",
       "      <td>[8028713000089, 8028713000096, 8028713250361]</td>\n",
       "      <td>Fragrance Family: Fresh   Scent Type: Fresh Ci...</td>\n",
       "      <td>[]</td>\n",
       "      <td>{'BV_FE_EXPAND': {'Values': [{'Locale': None, ...</td>\n",
       "      <td>https://www.sephora.com/productimages/sku/s204...</td>\n",
       "      <td>5847</td>\n",
       "      <td>[]</td>\n",
       "      <td>{'FeaturedReviewCount': 0, 'RecommendedCount':...</td>\n",
       "      <td>Colonia</td>\n",
       "      <td>...</td>\n",
       "      <td>[]</td>\n",
       "      <td>[P163604]</td>\n",
       "      <td>[]</td>\n",
       "      <td>https://www.sephora.com/product/colonia-P163604</td>\n",
       "      <td>[]</td>\n",
       "      <td>P163604</td>\n",
       "      <td>[BV_FE_EXPAND, BV_FE_FAMILY]</td>\n",
       "      <td>[]</td>\n",
       "      <td>[]</td>\n",
       "      <td>P163604</td>\n",
       "    </tr>\n",
       "    <tr>\n",
       "      <th>2</th>\n",
       "      <td>cat60148</td>\n",
       "      <td>[8028713570018, 8028713570025, 8028713570261, ...</td>\n",
       "      <td>Fragrance Family: Fresh\\tScent Type: Fresh Cit...</td>\n",
       "      <td>[]</td>\n",
       "      <td>{'BV_FE_EXPAND': {'Values': [{'Locale': None, ...</td>\n",
       "      <td>https://www.sephora.com/productimages/sku/s141...</td>\n",
       "      <td>5847</td>\n",
       "      <td>[]</td>\n",
       "      <td>{'FeaturedReviewCount': 0, 'RecommendedCount':...</td>\n",
       "      <td>Arancia di Capri</td>\n",
       "      <td>...</td>\n",
       "      <td>[]</td>\n",
       "      <td>[P375388]</td>\n",
       "      <td>[]</td>\n",
       "      <td>https://www.sephora.com/product/blu-mediterran...</td>\n",
       "      <td>[]</td>\n",
       "      <td>P375388</td>\n",
       "      <td>[BV_FE_EXPAND, BV_FE_FAMILY]</td>\n",
       "      <td>[]</td>\n",
       "      <td>[]</td>\n",
       "      <td>P375388</td>\n",
       "    </tr>\n",
       "    <tr>\n",
       "      <th>3</th>\n",
       "      <td>cat60148</td>\n",
       "      <td>[8028713570070, 8028713570087, 8028713570292, ...</td>\n",
       "      <td>Fragrance Family: Earthy &amp; Woody Scent Type: F...</td>\n",
       "      <td>[]</td>\n",
       "      <td>{'BV_FE_EXPAND': {'Values': [{'Locale': None, ...</td>\n",
       "      <td>https://www.sephora.com/productimages/sku/s141...</td>\n",
       "      <td>5847</td>\n",
       "      <td>[]</td>\n",
       "      <td>{'FeaturedReviewCount': 0, 'RecommendedCount':...</td>\n",
       "      <td>Mirto di Panarea</td>\n",
       "      <td>...</td>\n",
       "      <td>[]</td>\n",
       "      <td>[P307804]</td>\n",
       "      <td>[]</td>\n",
       "      <td>https://www.sephora.com/product/blu-mediterran...</td>\n",
       "      <td>[]</td>\n",
       "      <td>P307804</td>\n",
       "      <td>[BV_FE_EXPAND, BV_FE_FAMILY]</td>\n",
       "      <td>[]</td>\n",
       "      <td>[]</td>\n",
       "      <td>P307804</td>\n",
       "    </tr>\n",
       "    <tr>\n",
       "      <th>4</th>\n",
       "      <td>cat1910032</td>\n",
       "      <td>[8028713250439]</td>\n",
       "      <td>The Colonia Miniature Set comes in an iconic A...</td>\n",
       "      <td>[]</td>\n",
       "      <td>{'BV_FE_EXPAND': {'Values': [{'Locale': None, ...</td>\n",
       "      <td>https://www.sephora.com/productimages/sku/s221...</td>\n",
       "      <td>5847</td>\n",
       "      <td>[]</td>\n",
       "      <td>{'FeaturedReviewCount': 0, 'RecommendedCount':...</td>\n",
       "      <td>Mini Colonia Set</td>\n",
       "      <td>...</td>\n",
       "      <td>[]</td>\n",
       "      <td>[P443400]</td>\n",
       "      <td>[]</td>\n",
       "      <td>https://www.sephora.com/product/colonia-miniat...</td>\n",
       "      <td>[]</td>\n",
       "      <td>P443400</td>\n",
       "      <td>[BV_FE_EXPAND, BV_FE_FAMILY]</td>\n",
       "      <td>[]</td>\n",
       "      <td>[]</td>\n",
       "      <td>P443400</td>\n",
       "    </tr>\n",
       "  </tbody>\n",
       "</table>\n",
       "<p>5 rows × 22 columns</p>\n",
       "</div>"
      ],
      "text/plain": [
       "   CategoryId                                               EANs  \\\n",
       "0  cat1910032                                    [8028713571589]   \n",
       "1    cat60150      [8028713000089, 8028713000096, 8028713250361]   \n",
       "2    cat60148  [8028713570018, 8028713570025, 8028713570261, ...   \n",
       "3    cat60148  [8028713570070, 8028713570087, 8028713570292, ...   \n",
       "4  cat1910032                                    [8028713250439]   \n",
       "\n",
       "                                         Description ModelNumbers  \\\n",
       "0  This enchanting set comes in a specially handc...           []   \n",
       "1  Fragrance Family: Fresh   Scent Type: Fresh Ci...           []   \n",
       "2  Fragrance Family: Fresh\\tScent Type: Fresh Cit...           []   \n",
       "3  Fragrance Family: Earthy & Woody Scent Type: F...           []   \n",
       "4  The Colonia Miniature Set comes in an iconic A...           []   \n",
       "\n",
       "                                          Attributes  \\\n",
       "0  {'BV_FE_EXPAND': {'Values': [{'Locale': None, ...   \n",
       "1  {'BV_FE_EXPAND': {'Values': [{'Locale': None, ...   \n",
       "2  {'BV_FE_EXPAND': {'Values': [{'Locale': None, ...   \n",
       "3  {'BV_FE_EXPAND': {'Values': [{'Locale': None, ...   \n",
       "4  {'BV_FE_EXPAND': {'Values': [{'Locale': None, ...   \n",
       "\n",
       "                                            ImageUrl BrandExternalId UPCs  \\\n",
       "0  https://www.sephora.com/productimages/sku/s221...            5847   []   \n",
       "1  https://www.sephora.com/productimages/sku/s204...            5847   []   \n",
       "2  https://www.sephora.com/productimages/sku/s141...            5847   []   \n",
       "3  https://www.sephora.com/productimages/sku/s141...            5847   []   \n",
       "4  https://www.sephora.com/productimages/sku/s221...            5847   []   \n",
       "\n",
       "                                    ReviewStatistics  \\\n",
       "0  {'FeaturedReviewCount': 0, 'RecommendedCount':...   \n",
       "1  {'FeaturedReviewCount': 0, 'RecommendedCount':...   \n",
       "2  {'FeaturedReviewCount': 0, 'RecommendedCount':...   \n",
       "3  {'FeaturedReviewCount': 0, 'RecommendedCount':...   \n",
       "4  {'FeaturedReviewCount': 0, 'RecommendedCount':...   \n",
       "\n",
       "                                        Name  ... QuestionIds  FamilyIds  \\\n",
       "0  Blu Mediterraneo Mini Eau de Toilette Set  ...          []  [P443401]   \n",
       "1                                    Colonia  ...          []  [P163604]   \n",
       "2                           Arancia di Capri  ...          []  [P375388]   \n",
       "3                           Mirto di Panarea  ...          []  [P307804]   \n",
       "4                           Mini Colonia Set  ...          []  [P443400]   \n",
       "\n",
       "  ReviewIds                                     ProductPageUrl ISBNs       Id  \\\n",
       "0        []  https://www.sephora.com/product/blu-mediterran...    []  P443401   \n",
       "1        []    https://www.sephora.com/product/colonia-P163604    []  P163604   \n",
       "2        []  https://www.sephora.com/product/blu-mediterran...    []  P375388   \n",
       "3        []  https://www.sephora.com/product/blu-mediterran...    []  P307804   \n",
       "4        []  https://www.sephora.com/product/colonia-miniat...    []  P443400   \n",
       "\n",
       "                AttributesOrder ManufacturerPartNumbers StoryIds      key  \n",
       "0  [BV_FE_EXPAND, BV_FE_FAMILY]                      []       []  P443401  \n",
       "1  [BV_FE_EXPAND, BV_FE_FAMILY]                      []       []  P163604  \n",
       "2  [BV_FE_EXPAND, BV_FE_FAMILY]                      []       []  P375388  \n",
       "3  [BV_FE_EXPAND, BV_FE_FAMILY]                      []       []  P307804  \n",
       "4  [BV_FE_EXPAND, BV_FE_FAMILY]                      []       []  P443400  \n",
       "\n",
       "[5 rows x 22 columns]"
      ]
     },
     "execution_count": 121,
     "metadata": {},
     "output_type": "execute_result"
    }
   ],
   "source": [
    "df_product.head()"
   ]
  },
  {
   "cell_type": "code",
   "execution_count": 122,
   "metadata": {},
   "outputs": [],
   "source": [
    "df_product.to_csv('./data/product_sample.csv', sep = '\\t')"
   ]
  },
  {
   "cell_type": "code",
   "execution_count": null,
   "metadata": {},
   "outputs": [],
   "source": []
  }
 ],
 "metadata": {
  "kernelspec": {
   "display_name": "Python 3",
   "language": "python",
   "name": "python3"
  },
  "language_info": {
   "codemirror_mode": {
    "name": "ipython",
    "version": 3
   },
   "file_extension": ".py",
   "mimetype": "text/x-python",
   "name": "python",
   "nbconvert_exporter": "python",
   "pygments_lexer": "ipython3",
   "version": "3.8.5"
  }
 },
 "nbformat": 4,
 "nbformat_minor": 4
}
